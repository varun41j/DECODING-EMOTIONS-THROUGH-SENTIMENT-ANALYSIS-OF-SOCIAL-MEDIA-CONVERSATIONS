{
  "nbformat": 4,
  "nbformat_minor": 0,
  "metadata": {
    "colab": {
      "provenance": [],
      "authorship_tag": "ABX9TyONe3gxVM9RkSP9R1y5h0dL",
      "include_colab_link": true
    },
    "kernelspec": {
      "name": "python3",
      "display_name": "Python 3"
    },
    "language_info": {
      "name": "python"
    }
  },
  "cells": [
    {
      "cell_type": "markdown",
      "metadata": {
        "id": "view-in-github",
        "colab_type": "text"
      },
      "source": [
        "<a href=\"https://colab.research.google.com/github/varun41j/DECODING-EMOTIONS-THROUGH-SENTIMENT-ANALYSIS-OF-SOCIAL-MEDIA-CONVERSATIONS/blob/main/DECODING_EMOTIONS_THROUGH_SENTIMENT_ANALYSIS_OF_SOCIAL_MEDIA_CONVERSATIONS.ipynb\" target=\"_parent\"><img src=\"https://colab.research.google.com/assets/colab-badge.svg\" alt=\"Open In Colab\"/></a>"
      ]
    },
    {
      "cell_type": "code",
      "execution_count": null,
      "metadata": {
        "id": "R6eA4BrlSr0T"
      },
      "outputs": [],
      "source": []
    },
    {
      "cell_type": "code",
      "source": [
        "from textblob import TextBlob\n",
        "from vaderSentiment.vaderSentiment import SentimentIntensityAnalyzer\n",
        "import nltk\n",
        "\n",
        "# Optional: Uncomment this line if running for the first time\n",
        "# nltk.download('punkt')\n",
        "\n",
        "# Sample social media comments\n",
        "social_media_posts = [\n",
        "    \"I'm so happy with the new update! 🎉\",\n",
        "    \"Ugh, this feature is so annoying. 😡\",\n",
        "    \"Feeling a bit down today... not my best.\",\n",
        "    \"This product changed my life! 😍\",\n",
        "    \"Why is nothing working? I'm frustrated 😤\",\n",
        "    \"Lol this made my day 😂\",\n",
        "    \"Meh, it's okay I guess.\"\n",
        "]\n",
        "\n",
        "# Initialize VADER analyzer\n",
        "vader_analyzer = SentimentIntensityAnalyzer()\n",
        "\n",
        "def analyze_post(post):\n",
        "    print(f\"\\nPost: {post}\")\n",
        "\n",
        "    # TextBlob Sentiment\n",
        "    blob = TextBlob(post)\n",
        "    polarity = blob.sentiment.polarity  # [-1.0, 1.0]\n",
        "    subjectivity = blob.sentiment.subjectivity  # [0.0, 1.0]\n",
        "\n",
        "    # VADER Sentiment\n",
        "    vader_scores = vader_analyzer.polarity_scores(post)\n",
        "\n",
        "    # Emotion Decoding (basic logic)\n",
        "    if vader_scores['compound'] >= 0.5:\n",
        "        emotion = \"Joy / Excitement\"\n",
        "    elif vader_scores['compound'] <= -0.5:\n",
        "        emotion = \"Anger / Sadness / Frustration\"\n",
        "    else:\n",
        "        emotion = \"Neutral / Mixed Feelings\"\n",
        "\n",
        "    print(f\"TextBlob - Polarity: {polarity:.2f}, Subjectivity: {subjectivity:.2f}\")\n",
        "    print(f\"VADER - {vader_scores}\")\n",
        "    print(f\"Decoded Emotion: {emotion}\")\n",
        "\n",
        "# Analyze all posts\n",
        "for post in social_media_posts:\n",
        "    analyze_post(post)\n"
      ],
      "metadata": {
        "id": "IIzWbw0gTl2W"
      },
      "execution_count": null,
      "outputs": []
    }
  ]
}